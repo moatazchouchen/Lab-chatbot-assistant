{
 "cells": [
  {
   "cell_type": "code",
   "execution_count": 1,
   "metadata": {},
   "outputs": [],
   "source": [
    "from rasa.nlu.training_data import load_data\n",
    "from rasa.nlu.model import Trainer\n",
    "from rasa.nlu import config\n",
    "from rasa.nlu.model import Interpreter\n",
    "\n",
    "CHATBOT_NAME = 'lab_assistant_chatbot'\n",
    "def train_chatbot(data_json, config_file, model_dir):\n",
    "    training_data = load_data(data_json)\n",
    "    trainer = Trainer(config.load(config_file))\n",
    "    trainer.train(training_data)\n",
    "    model_directory = trainer.persist(model_dir, fixed_model_name =CHATBOT_NAME)\n",
    "\n",
    "def predict_intent(text):\n",
    "    interpreter = Interpreter.load('./models/nlu/' + CHATBOT_NAME)\n",
    "    print(interpreter.parse(text))"
   ]
  },
  {
   "cell_type": "code",
   "execution_count": 2,
   "metadata": {},
   "outputs": [
    {
     "name": "stderr",
     "output_type": "stream",
     "text": [
      "\u001b[93mC:\\ProgramData\\Anaconda3\\lib\\site-packages\\rasa\\nlu\\config.py:50: FutureWarning: You are using a pipeline template. All pipelines templates are deprecated and will be removed in version 2.0. Please add the components you want to use directly to your configuration file.\n",
      "  return RasaNLUModelConfig(config)\n",
      "\u001b[0m\u001b[93mC:\\ProgramData\\Anaconda3\\lib\\site-packages\\rasa\\utils\\common.py:351: UserWarning: Please configure the number of 'epochs' in your configuration file. We will change the default value of 'epochs' in the future to 1. \n",
      "\u001b[0m\u001b[93mC:\\ProgramData\\Anaconda3\\lib\\site-packages\\rasa\\nlu\\components.py:483: FutureWarning: 'EmbeddingIntentClassifier' is deprecated and will be removed in version 2.0. Use 'DIETClassifier' instead.\n",
      "  return cls(component_config)\n",
      "Epochs: 100%|███████████████████████████████| 300/300 [00:25<00:00, 11.69it/s, t_loss=0.629, i_loss=0.000, i_acc=1.000]\n",
      "C:\\ProgramData\\Anaconda3\\lib\\site-packages\\sklearn\\externals\\joblib\\__init__.py:15: FutureWarning: sklearn.externals.joblib is deprecated in 0.21 and will be removed in 0.23. Please import this functionality directly from joblib, which can be installed with: pip install joblib. If this warning is raised when loading pickled models, you may need to re-serialize those models with scikit-learn 0.21+.\n",
      "  warnings.warn(msg, category=FutureWarning)\n"
     ]
    }
   ],
   "source": [
    "train_chatbot('./data/data.json', 'config.json', './models/nlu')\n"
   ]
  },
  {
   "cell_type": "code",
   "execution_count": 8,
   "metadata": {},
   "outputs": [
    {
     "name": "stdout",
     "output_type": "stream",
     "text": [
      "{'intent': {'name': 'greeting', 'confidence': 0.9992263317108154}, 'entities': [], 'intent_ranking': [{'name': 'greeting', 'confidence': 0.9992263317108154}, {'name': 'create_order', 'confidence': 0.0007737192790955305}], 'text': 'bonsoir'}\n"
     ]
    },
    {
     "name": "stderr",
     "output_type": "stream",
     "text": [
      "\u001b[93mC:\\ProgramData\\Anaconda3\\lib\\site-packages\\rasa\\nlu\\classifiers\\diet_classifier.py:919: FutureWarning: 'EmbeddingIntentClassifier' is deprecated and will be removed in version 2.0. Use 'DIETClassifier' instead.\n",
      "  model=model,\n",
      "\u001b[0m"
     ]
    }
   ],
   "source": [
    "#tester le chatbot\n",
    "predict_intent(\"bonsoir\")"
   ]
  },
  {
   "cell_type": "code",
   "execution_count": null,
   "metadata": {},
   "outputs": [],
   "source": []
  }
 ],
 "metadata": {
  "kernelspec": {
   "display_name": "Python 3",
   "language": "python",
   "name": "python3"
  },
  "language_info": {
   "codemirror_mode": {
    "name": "ipython",
    "version": 3
   },
   "file_extension": ".py",
   "mimetype": "text/x-python",
   "name": "python",
   "nbconvert_exporter": "python",
   "pygments_lexer": "ipython3",
   "version": "3.7.6"
  }
 },
 "nbformat": 4,
 "nbformat_minor": 4
}
